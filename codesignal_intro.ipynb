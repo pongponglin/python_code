{
 "cells": [
  {
   "cell_type": "code",
   "execution_count": 1,
   "metadata": {},
   "outputs": [],
   "source": [
    "import numpy as np\n",
    "import math"
   ]
  },
  {
   "cell_type": "code",
   "execution_count": null,
   "metadata": {},
   "outputs": [],
   "source": [
    "###  ### "
   ]
  },
  {
   "cell_type": "code",
   "execution_count": 12,
   "metadata": {},
   "outputs": [
    {
     "name": "stdout",
     "output_type": "stream",
     "text": [
      "1\n",
      "2\n",
      "aa\n",
      "aa\n"
     ]
    },
    {
     "data": {
      "text/plain": [
       "True"
      ]
     },
     "execution_count": 12,
     "metadata": {},
     "output_type": "execute_result"
    }
   ],
   "source": [
    "### 3.checkPalindrome ### \n",
    "inputString = 'aabaa'\n",
    "a = len(inputString)%2\n",
    "print(a)\n",
    "b = int((len(inputString)-a)/2)\n",
    "print(b)\n",
    "head = inputString[:b]\n",
    "print(head)\n",
    "tail = inputString[b+a:][::-1]\n",
    "print(tail)\n",
    "head == tail"
   ]
  },
  {
   "cell_type": "code",
   "execution_count": 3,
   "metadata": {},
   "outputs": [
    {
     "name": "stdout",
     "output_type": "stream",
     "text": [
      "[3, 6, -2, -5, 7]\n",
      "[6, -2, -5, 7, 3]\n",
      "[18, -12, 10, -35, 21]\n"
     ]
    },
    {
     "data": {
      "text/plain": [
       "21"
      ]
     },
     "execution_count": 3,
     "metadata": {},
     "output_type": "execute_result"
    }
   ],
   "source": [
    "### 4.adjacentElementsProduct ### \n",
    "inputArray = [3, 6, -2, -5, 7, 3]\n",
    "a=inputArray[:-1]\n",
    "b=inputArray[1:]\n",
    "print(a)\n",
    "print(b)\n",
    "prod = []\n",
    "for i in range(len(a)):\n",
    "    prod.append(a[i]*b[i])\n",
    "print(prod)\n",
    "max(prod)"
   ]
  },
  {
   "cell_type": "code",
   "execution_count": 4,
   "metadata": {},
   "outputs": [
    {
     "name": "stdout",
     "output_type": "stream",
     "text": [
      "[1, 3, 5, 7]\n",
      "[5, 3, 1]\n"
     ]
    },
    {
     "data": {
      "text/plain": [
       "25"
      ]
     },
     "execution_count": 4,
     "metadata": {},
     "output_type": "execute_result"
    }
   ],
   "source": [
    "### 5.shapeArea ### \n",
    "n=4\n",
    "a=1\n",
    "g=[1]\n",
    "for i in range(n-1):\n",
    "    a=(a+2)\n",
    "    g.append(a)\n",
    "print(g)\n",
    "print(g[:-1][::-1])\n",
    "sum(g[:-1][::-1])+sum(g)"
   ]
  },
  {
   "cell_type": "code",
   "execution_count": 11,
   "metadata": {},
   "outputs": [
    {
     "data": {
      "text/plain": [
       "3"
      ]
     },
     "execution_count": 11,
     "metadata": {},
     "output_type": "execute_result"
    }
   ],
   "source": [
    "### 6.Make Array Consecutive2 ### \n",
    "statues = [6, 2, 3, 8]\n",
    "total = np.arange(min(statues),max(statues)+1,1).tolist()\n",
    "len(set(total)-set(statues))"
   ]
  },
  {
   "cell_type": "code",
   "execution_count": 10,
   "metadata": {},
   "outputs": [
    {
     "name": "stdout",
     "output_type": "stream",
     "text": [
      "TRUE\n"
     ]
    }
   ],
   "source": [
    "### 7.almostIncreasingSequence ### \n",
    "sequence = [1,3,2]\n",
    "n = len(sequence)\n",
    "if n <= 2:\n",
    "    # return True\n",
    "    print('TRUE')\n",
    "c1 = 0\n",
    "c2 = 0    \n",
    "for i in range(1, n-1):\n",
    "    if sequence[i-1] >= sequence[i]:\n",
    "        c1 += 1\n",
    "    if sequence[i-1] >= sequence[i+1]:\n",
    "        c2 += 1\n",
    "if sequence[n-1] <= sequence[n-2]:\n",
    "    c1 += 1\n",
    "if c1 <= 1 and c2 <= 1:\n",
    "    # return True\n",
    "    print('TRUE')\n",
    "else:\n",
    "    # return False\n",
    "    print('False')"
   ]
  },
  {
   "cell_type": "code",
   "execution_count": 13,
   "metadata": {},
   "outputs": [
    {
     "name": "stdout",
     "output_type": "stream",
     "text": [
      "[[0 0 2]\n",
      " [1 5 0]\n",
      " [1 0 3]\n",
      " [2 0 3]]\n"
     ]
    },
    {
     "data": {
      "text/plain": [
       "9"
      ]
     },
     "execution_count": 13,
     "metadata": {},
     "output_type": "execute_result"
    }
   ],
   "source": [
    "### 8.matrixElementSum ### \n",
    "matrix = [[0, 1, 1, 2], \n",
    "          [0, 5, 0, 0], \n",
    "          [2, 0, 3, 3]]\n",
    "m = np.array(matrix).transpose()\n",
    "print(m)\n",
    "b=[]\n",
    "for i in m:\n",
    "    a =0\n",
    "    for j in i:\n",
    "        if j==0:\n",
    "            break\n",
    "        else: a+=j\n",
    "    b.append(a)\n",
    "sum(b)"
   ]
  },
  {
   "cell_type": "code",
   "execution_count": 9,
   "metadata": {},
   "outputs": [
    {
     "data": {
      "text/plain": [
       "['aba', 'vcd', 'aba']"
      ]
     },
     "execution_count": 9,
     "metadata": {},
     "output_type": "execute_result"
    }
   ],
   "source": [
    "### 9.All Longest Strings ### \n",
    "inputArray = [\"aba\", \"aa\", \"ad\", \"vcd\", \"aba\"]\n",
    "a = [len(i) for i in inputArray]\n",
    "m = max(a)\n",
    "output = []\n",
    "for i in range(len(a)):\n",
    "    if a[i]==m:\n",
    "        output.append(inputArray[i])\n",
    "output"
   ]
  },
  {
   "cell_type": "code",
   "execution_count": 25,
   "metadata": {},
   "outputs": [
    {
     "name": "stdout",
     "output_type": "stream",
     "text": [
      "a\n",
      "dcaa\n",
      "a\n",
      "dca\n",
      "b\n",
      "c\n",
      "da\n",
      "c\n"
     ]
    },
    {
     "data": {
      "text/plain": [
       "3"
      ]
     },
     "execution_count": 25,
     "metadata": {},
     "output_type": "execute_result"
    }
   ],
   "source": [
    "### 10.commonCharacterCount ### 交集\n",
    "s1 = \"aabcc\"\n",
    "s2 = \"adcaa\"\n",
    "# print(set(s1).intersection(set(s2)))\n",
    "c=0\n",
    "for i in s1:\n",
    "    print(i)\n",
    "    if i in s2:\n",
    "        c+=1\n",
    "        s2 = s2.replace(i,'',1)\n",
    "        print(s2)\n",
    "c"
   ]
  },
  {
   "cell_type": "code",
   "execution_count": null,
   "metadata": {},
   "outputs": [],
   "source": []
  }
 ],
 "metadata": {
  "interpreter": {
   "hash": "c7d49d3b3b7afdfe299594850a26ff2527bbd2b2b9747d965b474ce7f0d07852"
  },
  "kernelspec": {
   "display_name": "Python 3.8.5 64-bit ('venv': venv)",
   "language": "python",
   "name": "python3"
  },
  "language_info": {
   "codemirror_mode": {
    "name": "ipython",
    "version": 3
   },
   "file_extension": ".py",
   "mimetype": "text/x-python",
   "name": "python",
   "nbconvert_exporter": "python",
   "pygments_lexer": "ipython3",
   "version": "3.8.5"
  },
  "orig_nbformat": 4
 },
 "nbformat": 4,
 "nbformat_minor": 2
}
