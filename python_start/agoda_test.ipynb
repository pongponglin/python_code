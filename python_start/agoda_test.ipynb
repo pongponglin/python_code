{
 "cells": [
  {
   "cell_type": "code",
   "execution_count": 6,
   "metadata": {},
   "outputs": [],
   "source": [
    "import numpy as np\n",
    "import math\n",
    "import re\n",
    "import scipy.stats as stats\n",
    "import statistics\n",
    "import pandas as pd \n",
    "from sklearn import preprocessing"
   ]
  },
  {
   "cell_type": "code",
   "execution_count": 5,
   "metadata": {},
   "outputs": [
    {
     "data": {
      "text/plain": [
       "11"
      ]
     },
     "execution_count": 5,
     "metadata": {},
     "output_type": "execute_result"
    }
   ],
   "source": [
    "n=29\n",
    "a = str(n)\n",
    "int(a[0])+int(a[1])"
   ]
  },
  {
   "cell_type": "code",
   "execution_count": 141,
   "metadata": {},
   "outputs": [
    {
     "data": {
      "text/plain": [
       "[1, 1, 2, 2, 2, 2, 3, 3, 3, 3, 3, 3]"
      ]
     },
     "execution_count": 141,
     "metadata": {},
     "output_type": "execute_result"
    }
   ],
   "source": [
    "sample = [1, 2,3]\n",
    "nums = [2,4,6]\n",
    "prices = [1, 2, 3]\n",
    "sample = []\n",
    "for i in range(len(nums)):\n",
    "    sample+= [prices[i]]*nums[i]\n",
    "s = np.array(sample)\n",
    "sample"
   ]
  },
  {
   "cell_type": "code",
   "execution_count": 142,
   "metadata": {},
   "outputs": [
    {
     "name": "stdout",
     "output_type": "stream",
     "text": [
      "0.74535599249993\n",
      "0.7784989441615231\n",
      "0.778498944161523\n"
     ]
    }
   ],
   "source": [
    "s= np.array(prices).repeat(nums)\n",
    "print(np.std(s))  # 預設的 ddof 是 0, 回傳 population standard deviation 母體標準差，分母(n)，有偏估計\n",
    "print(np.std(s, ddof=1)) # ddof=1，回傳 sample standard deviation 樣本標準差，分母(n-1)，無偏估計\n",
    "print(statistics.stdev(sample))"
   ]
  },
  {
   "cell_type": "code",
   "execution_count": 132,
   "metadata": {},
   "outputs": [
    {
     "data": {
      "text/plain": [
       "0.74535599249993"
      ]
     },
     "execution_count": 132,
     "metadata": {},
     "output_type": "execute_result"
    }
   ],
   "source": [
    "sum(np.square(s - s.mean()))/len(s)\n",
    "np.sqrt(sum(np.square(s - s.mean()))/len(s))"
   ]
  },
  {
   "cell_type": "code",
   "execution_count": 15,
   "metadata": {},
   "outputs": [
    {
     "data": {
      "text/plain": [
       "'AbCde'"
      ]
     },
     "execution_count": 15,
     "metadata": {},
     "output_type": "execute_result"
    }
   ],
   "source": [
    "s = \"Ab1C4de\"\n",
    "ns= re.sub('[0-9]','',s)\n",
    "ns"
   ]
  },
  {
   "cell_type": "code",
   "execution_count": 28,
   "metadata": {},
   "outputs": [
    {
     "name": "stdout",
     "output_type": "stream",
     "text": [
      "[0, 2]\n",
      "[1, 3, 4]\n",
      "['a', 'c']\n",
      "['E', 'D', 'B']\n"
     ]
    }
   ],
   "source": [
    "upper = [a.start() for a in list(re.finditer('[A-Z]', ns))]\n",
    "lower = [a.start() for a in list(re.finditer('[a-z]', ns))]\n",
    "upw = [ns[i].lower() for i in upper]\n",
    "low = [ns[i].upper() for i in lower][::-1]\n",
    "print(upper)\n",
    "print(lower)\n",
    "print(upw)\n",
    "print(low)\n"
   ]
  },
  {
   "cell_type": "code",
   "execution_count": 38,
   "metadata": {},
   "outputs": [
    {
     "data": {
      "text/plain": [
       "'aEcDB'"
      ]
     },
     "execution_count": 38,
     "metadata": {},
     "output_type": "execute_result"
    }
   ],
   "source": [
    "d1 = pd.DataFrame(list(zip(upper, upw)), columns=['order','world'])\n",
    "d2 = pd.DataFrame(list(zip(lower, low)), columns=['order','world'])\n",
    "''.join(pd.concat([d1,d2],axis=0).sort_values('order')['world'])"
   ]
  },
  {
   "cell_type": "code",
   "execution_count": 3,
   "metadata": {},
   "outputs": [],
   "source": [
    "import time\n",
    "from datetime import datetime, timedelta"
   ]
  },
  {
   "cell_type": "code",
   "execution_count": 7,
   "metadata": {},
   "outputs": [
    {
     "name": "stdout",
     "output_type": "stream",
     "text": [
      "[datetime.datetime(1900, 1, 1, 10, 0), datetime.datetime(1900, 1, 1, 11, 0), datetime.datetime(1900, 1, 1, 12, 0)]\n",
      "[datetime.datetime(1900, 1, 1, 11, 30), datetime.datetime(1900, 1, 1, 12, 5), datetime.datetime(1900, 1, 1, 12, 40)]\n"
     ]
    },
    {
     "data": {
      "text/html": [
       "<div>\n",
       "<style scoped>\n",
       "    .dataframe tbody tr th:only-of-type {\n",
       "        vertical-align: middle;\n",
       "    }\n",
       "\n",
       "    .dataframe tbody tr th {\n",
       "        vertical-align: top;\n",
       "    }\n",
       "\n",
       "    .dataframe thead th {\n",
       "        text-align: right;\n",
       "    }\n",
       "</style>\n",
       "<table border=\"1\" class=\"dataframe\">\n",
       "  <thead>\n",
       "    <tr style=\"text-align: right;\">\n",
       "      <th></th>\n",
       "      <th>start</th>\n",
       "      <th>end</th>\n",
       "    </tr>\n",
       "  </thead>\n",
       "  <tbody>\n",
       "    <tr>\n",
       "      <th>0</th>\n",
       "      <td>1900-01-01 10:00:00</td>\n",
       "      <td>1900-01-01 11:30:00</td>\n",
       "    </tr>\n",
       "    <tr>\n",
       "      <th>1</th>\n",
       "      <td>1900-01-01 11:00:00</td>\n",
       "      <td>1900-01-01 12:05:00</td>\n",
       "    </tr>\n",
       "    <tr>\n",
       "      <th>2</th>\n",
       "      <td>1900-01-01 12:00:00</td>\n",
       "      <td>1900-01-01 12:40:00</td>\n",
       "    </tr>\n",
       "  </tbody>\n",
       "</table>\n",
       "</div>"
      ],
      "text/plain": [
       "                start                 end\n",
       "0 1900-01-01 10:00:00 1900-01-01 11:30:00\n",
       "1 1900-01-01 11:00:00 1900-01-01 12:05:00\n",
       "2 1900-01-01 12:00:00 1900-01-01 12:40:00"
      ]
     },
     "execution_count": 7,
     "metadata": {},
     "output_type": "execute_result"
    }
   ],
   "source": [
    "startTimes = [\"10:00\", \"11:00\", \"12:00\"]\n",
    "durations = [60, 60, 60]\n",
    "durations = [90, 65, 40]\n",
    "\n",
    "a = [datetime.strptime(i,'%H:%M') for i in startTimes]\n",
    "print(a)\n",
    "b = [i+timedelta(minutes=m) for i,m in zip(a,durations)]\n",
    "print(b)\n",
    "d = pd.DataFrame(list(zip(a, b)), columns=['start','end'])\n",
    "nd = d.sort_values('end').reset_index(drop=True)\n",
    "nd"
   ]
  },
  {
   "cell_type": "code",
   "execution_count": 108,
   "metadata": {},
   "outputs": [
    {
     "name": "stdout",
     "output_type": "stream",
     "text": [
      "2\n",
      "[0, 2]\n"
     ]
    },
    {
     "data": {
      "text/plain": [
       "2"
      ]
     },
     "execution_count": 108,
     "metadata": {},
     "output_type": "execute_result"
    }
   ],
   "source": [
    "i=0\n",
    "c = [i]\n",
    "for j in range(len(a)):\n",
    "    if nd['start'][j]>=nd['end'][i]:\n",
    "        print(j)\n",
    "        i = j\n",
    "        c.append(i)\n",
    "print(c)\n",
    "len(c)"
   ]
  }
 ],
 "metadata": {
  "interpreter": {
   "hash": "c7d49d3b3b7afdfe299594850a26ff2527bbd2b2b9747d965b474ce7f0d07852"
  },
  "kernelspec": {
   "display_name": "Python 3.8.5 64-bit ('venv': venv)",
   "language": "python",
   "name": "python3"
  },
  "language_info": {
   "codemirror_mode": {
    "name": "ipython",
    "version": 3
   },
   "file_extension": ".py",
   "mimetype": "text/x-python",
   "name": "python",
   "nbconvert_exporter": "python",
   "pygments_lexer": "ipython3",
   "version": "3.8.5"
  },
  "orig_nbformat": 4
 },
 "nbformat": 4,
 "nbformat_minor": 2
}
