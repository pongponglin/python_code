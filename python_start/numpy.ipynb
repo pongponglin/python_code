{
 "cells": [
  {
   "cell_type": "code",
   "execution_count": 1,
   "metadata": {},
   "outputs": [
    {
     "name": "stdout",
     "output_type": "stream",
     "text": [
      "<module 'numpy' from '/Users/nicolelinmbp2022/venv/lib/python3.9/site-packages/numpy/__init__.py'>\n",
      "1.23.4\n"
     ]
    }
   ],
   "source": [
    "# 載入 NumPy 套件\n",
    "import numpy as np\n",
    "\n",
    "# 檢查正確載入與版本\n",
    "print(np)\n",
    "print(np.__version__)"
   ]
  },
  {
   "cell_type": "code",
   "execution_count": 7,
   "metadata": {},
   "outputs": [
    {
     "name": "stdout",
     "output_type": "stream",
     "text": [
      "[0 1 2 3]\n",
      "[2 5 8]\n"
     ]
    }
   ],
   "source": [
    "# generate array\n",
    "print(np.arange(4))\n",
    "print(np.arange(2,10,3))"
   ]
  },
  {
   "cell_type": "code",
   "execution_count": null,
   "metadata": {},
   "outputs": [],
   "source": []
  },
  {
   "cell_type": "code",
   "execution_count": 12,
   "metadata": {},
   "outputs": [
    {
     "name": "stdout",
     "output_type": "stream",
     "text": [
      "a:  [20 30 40 50]\n",
      "b:  [0 1 2 3]\n",
      "a+b: [20 31 42 53]\n",
      "a+b: [  0  30  80 150]\n",
      "a+1:  [21 31 41 51]\n",
      "a>b: [ True  True  True  True]\n"
     ]
    }
   ],
   "source": [
    "# 相同大小的陣列運算\n",
    "a = np.array( [20,30,40,50] )\n",
    "b = np.arange( 4 )\n",
    "print('a: ', a)\n",
    "print('b: ', b)\n",
    "print('a+b:', a + b)\n",
    "print('a+b:', a * b)\n",
    "print('a+1: ', a+1)\n",
    "print('a>b:', a > b)\n"
   ]
  },
  {
   "cell_type": "code",
   "execution_count": 11,
   "metadata": {},
   "outputs": [
    {
     "name": "stdout",
     "output_type": "stream",
     "text": [
      "data: [[1 2]\n",
      " [3 4]\n",
      " [5 6]]\n",
      "ones_row: [[1 1]]\n",
      "data + ones_row: [[2 3]\n",
      " [4 5]\n",
      " [6 7]]\n"
     ]
    }
   ],
   "source": [
    "# 不同大小的陣列運算\n",
    "\n",
    "import numpy as np\n",
    "\n",
    "data = np.array([[1, 2], [3, 4], [5, 6]])\n",
    "ones_row = np.array([[1, 1]])\n",
    "# IF ones_row = np.array([[1, 1, 1]]) 則會Error\n",
    "print('data:', data)\n",
    "print('ones_row:', ones_row)\n",
    "print('data + ones_row:', data + ones_row)"
   ]
  },
  {
   "cell_type": "code",
   "execution_count": 14,
   "metadata": {},
   "outputs": [
    {
     "name": "stdout",
     "output_type": "stream",
     "text": [
      "[ True False False False]\n",
      "[ True  True  True False]\n"
     ]
    }
   ],
   "source": [
    "a = np.array( [True, True, False, False] )\n",
    "b = np.array( [True, False, True, False]  )\n",
    "\n",
    "# print(a and b) # 無法使用\n",
    "print(a & b) # [ True False False False]\n",
    "print(a | b) # [ True  True  True False]\n"
   ]
  },
  {
   "cell_type": "code",
   "execution_count": 26,
   "metadata": {},
   "outputs": [
    {
     "name": "stdout",
     "output_type": "stream",
     "text": [
      "[ 0  1  2  3  4  5  6  7  8  9 10 11]\n",
      "[[ 0  1  2  3  4  5]\n",
      " [ 6  7  8  9 10 11]]\n",
      "None\n",
      "[[ 0  1  2  3  4  5]\n",
      " [ 6  7  8  9 10 11]]\n"
     ]
    }
   ],
   "source": [
    "a = np.arange(12)\n",
    "print(a)\n",
    "print(a.reshape(2, 6))\n",
    "\n",
    "print(a.resize(2, 6))\n",
    "print(a)"
   ]
  },
  {
   "cell_type": "code",
   "execution_count": 17,
   "metadata": {},
   "outputs": [
    {
     "name": "stdout",
     "output_type": "stream",
     "text": [
      "[ 5  4  6 12 10  8  7 17 11 18]\n",
      "18\n",
      "18\n",
      "9\n",
      "98\n",
      "98\n",
      "98\n"
     ]
    }
   ],
   "source": [
    "a = np.random.randint(1, 20, 10)\n",
    "print(a)\n",
    "print(a.max())\n",
    "print(np.amax(a))\n",
    "print(a.argmax()) #回傳位置\n",
    "\n",
    "print(a.sum()) \n",
    "print(np.sum(a))\n",
    "print(sum(a)) "
   ]
  },
  {
   "cell_type": "code",
   "execution_count": 28,
   "metadata": {},
   "outputs": [
    {
     "name": "stdout",
     "output_type": "stream",
     "text": [
      "[1 2 4 6 5 1 9 6 8 2 6 4 3 6 7 1 3 9 9 1 3 6 8 0 9 7 3 4 2 7 0 1 0 5 7 1 0\n",
      " 2 7 7 4 4 2 6 7 7 3 7 7 0]\n",
      "[ 5  6  5  5  5  2  6 10  2  4]\n",
      "7\n",
      "[0 0 0 0 0 1 1 1 1 1 1 2 2 2 2 2 3 3 3 3 3 4 4 4 4 4 5 5 6 6 6 6 6 6 7 7 7\n",
      " 7 7 7 7 7 7 7 8 8 9 9 9 9]\n",
      "[1 2 4 6 5 1 9 6 8 2 6 4 3 6 7 1 3 9 9 1 3 6 8 0 9 7 3 4 2 7 0 1 0 5 7 1 0\n",
      " 2 7 7 4 4 2 6 7 7 3 7 7 0]\n"
     ]
    }
   ],
   "source": [
    "a = np.random.randint(0,10,50)\n",
    "print(a)\n",
    "print(np.bincount(a))\n",
    "print(np.bincount(a).argmax()) #找出出現最多次的數字\n",
    "print(np.sort(a))\n"
   ]
  },
  {
   "cell_type": "code",
   "execution_count": 21,
   "metadata": {},
   "outputs": [
    {
     "name": "stdout",
     "output_type": "stream",
     "text": [
      "b: [[ 0  1  2  3]\n",
      " [ 4  5  6  7]\n",
      " [ 8  9 10 11]]\n",
      "全部相加： 66\n",
      "直行相加： [12 15 18 21]\n",
      "橫列相加： [ 6 22 38]\n"
     ]
    }
   ],
   "source": [
    "b = np.arange(12).reshape(3, 4)\n",
    "\n",
    "print('b:', b)\n",
    "print('全部相加：', b.sum())\n",
    "print('直行相加：', b.sum(axis=0))\n",
    "print('橫列相加：', b.sum(axis=1))\n"
   ]
  },
  {
   "cell_type": "code",
   "execution_count": null,
   "metadata": {},
   "outputs": [],
   "source": []
  }
 ],
 "metadata": {
  "kernelspec": {
   "display_name": "Python 3.9.6 ('venv')",
   "language": "python",
   "name": "python3"
  },
  "language_info": {
   "codemirror_mode": {
    "name": "ipython",
    "version": 3
   },
   "file_extension": ".py",
   "mimetype": "text/x-python",
   "name": "python",
   "nbconvert_exporter": "python",
   "pygments_lexer": "ipython3",
   "version": "3.9.6"
  },
  "orig_nbformat": 4,
  "vscode": {
   "interpreter": {
    "hash": "9a6853628aae4129bdb5bdbe78e189a000e2ee73bda81940ae6483f865f8516a"
   }
  }
 },
 "nbformat": 4,
 "nbformat_minor": 2
}
