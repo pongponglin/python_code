{
 "cells": [
  {
   "cell_type": "markdown",
   "metadata": {},
   "source": [
    "### Basic\n",
    "- tuple: ()\n",
    "    - 序對，有順序，不可更改內容\n",
    "- list: []\n",
    "    - 串列，有順序，可更改\n",
    "- set: {}\n",
    "    - 集合，無順序，可更改\n",
    "- dict: {'a':1, 'b':'c'}\n",
    "    - 字典，無順序，可更改\n",
    "---\n",
    "- type(): return the type of the variance\n",
    "- print(value,sep = '', end='')"
   ]
  },
  {
   "cell_type": "code",
   "execution_count": 2,
   "metadata": {},
   "outputs": [
    {
     "name": "stdout",
     "output_type": "stream",
     "text": [
      "<class 'tuple'>\n",
      "<class 'list'>\n",
      "<class 'set'>\n",
      "<class 'dict'>\n"
     ]
    }
   ],
   "source": [
    "t = (1,2)\n",
    "print(type(t))\n",
    "l = ['a']\n",
    "print(type(l))\n",
    "s = {5}\n",
    "print(type(s))\n",
    "d = {'a':7}\n",
    "print(type(d))"
   ]
  },
  {
   "cell_type": "markdown",
   "metadata": {},
   "source": [
    "### list\n",
    "- .append(); .extend()\n",
    "- .insert(); .remove()\n",
    "- .count()\n",
    "- .sourt(); .reverse()\n",
    "- .copy()"
   ]
  },
  {
   "cell_type": "code",
   "execution_count": 15,
   "metadata": {},
   "outputs": [
    {
     "name": "stdout",
     "output_type": "stream",
     "text": [
      "[1, 2, 3, 10]\n",
      "[1, 2, 3, 10, 'abc']\n",
      "[1, 5, 3, 10, 'abc']\n",
      "[1, 5, 3, 10, 'abc', 'e', 'r']\n",
      "[1, 5, 3, 10, 'abc', 'e', 'r']\n",
      "[1, 5, 'insert', 3, 10, 'abc', 'e', 'r']\n",
      "[1, 5, 'insert', 3, 10, 'e', 'r']\n",
      "[1, 5, 'insert', 3, 10, 'e', 'r']\n"
     ]
    }
   ],
   "source": [
    "list1 = [1,2,3]; list2 = ['e','r']\n",
    "list1.append(10); print(list1)\n",
    "list1.append('abc'); print(list1)\n",
    "list1[1] = 5; print(list1)\n",
    "list1.extend(list2); print(list1)\n",
    "list1+list2; print(list1)\n",
    "list1.insert(2,'insert'); print(list1)\n",
    "list1.remove('abc'); print(list1)\n",
    "list3 = list1.copy(); print(list3)"
   ]
  },
  {
   "cell_type": "markdown",
   "metadata": {},
   "source": [
    "### Dict"
   ]
  },
  {
   "cell_type": "code",
   "execution_count": 21,
   "metadata": {},
   "outputs": [
    {
     "name": "stdout",
     "output_type": "stream",
     "text": [
      "a\n",
      "{1: 'a', 2: 'b', 3: 'c'}\n",
      "3\n"
     ]
    }
   ],
   "source": [
    "d1 = {1:'a', 2:'b'}\n",
    "d2 = dict({1:'a', 2:'b'})\n",
    "d3 = dict(zip((1,2),('a','b')))\n",
    "d4 = dict([[2,'b'],[1,'a']])\n",
    "print(d1[1])\n",
    "d2[3] = 'c'; print(d2)\n",
    "print(len(d2))"
   ]
  },
  {
   "cell_type": "markdown",
   "metadata": {},
   "source": [
    "### Set\n",
    "- .pop()\n",
    "- .add(e); .remove(e)\n",
    "- .clear(); .copy()\n",
    "- set.difference(set2)：差集; set.difference_update(set2) 更新回原來的set\n",
    "- set.intersection(set2)：交集; set.intersection_update(set2)\n",
    "- set.union(set2)：聯集; set.update(set2)\n",
    "- set.issubset(set2); set.issuperset(set2)"
   ]
  },
  {
   "cell_type": "code",
   "execution_count": 29,
   "metadata": {},
   "outputs": [
    {
     "name": "stdout",
     "output_type": "stream",
     "text": [
      "{'b'}\n",
      "{'c', 'a'}\n",
      "{'b', 'c', 'd', 'a'}\n"
     ]
    }
   ],
   "source": [
    "set1 = {'a','b','c'}\n",
    "set2 = {'a','c','d'}\n",
    "print(set1.difference(set2))\n",
    "print(set1.intersection(set2))\n",
    "print(set1.union(set2))"
   ]
  },
  {
   "cell_type": "markdown",
   "metadata": {},
   "source": [
    "### Calculation\n",
    "- +: 加法, -: 減法, *: 乘法, /: 除法\n",
    "- **: 指數\n",
    "- //: 整數除法\n",
    "- %: 取餘數\n",
    "- in: know if contain"
   ]
  },
  {
   "cell_type": "code",
   "execution_count": 6,
   "metadata": {},
   "outputs": [
    {
     "name": "stdout",
     "output_type": "stream",
     "text": [
      "True\n",
      "True\n"
     ]
    }
   ],
   "source": [
    "x = [1,4,'z','5']\n",
    "print(1 in x)\n",
    "print('z' in x)"
   ]
  },
  {
   "cell_type": "code",
   "execution_count": 7,
   "metadata": {},
   "outputs": [
    {
     "data": {
      "text/plain": [
       "3.141592653589793"
      ]
     },
     "execution_count": 7,
     "metadata": {},
     "output_type": "execute_result"
    }
   ],
   "source": [
    "import math\n",
    "math.pi #呼叫圓周率"
   ]
  },
  {
   "cell_type": "markdown",
   "metadata": {},
   "source": [
    "### function\n",
    "```{python}\n",
    "def f(*arguments): -> tuple\n",
    "    #do something\n",
    "    reture ans\n",
    "\n",
    "def f(**keywords): -> dictionary\n",
    "    #do something\n",
    "    reture ans\n",
    "```\n"
   ]
  },
  {
   "cell_type": "code",
   "execution_count": 32,
   "metadata": {},
   "outputs": [
    {
     "data": {
      "text/plain": [
       "40"
      ]
     },
     "execution_count": 32,
     "metadata": {},
     "output_type": "execute_result"
    }
   ],
   "source": [
    "def F(x, y):\n",
    "    ans = 2*x+y\n",
    "    return ans\n",
    "\n",
    "F(10, 20)"
   ]
  },
  {
   "cell_type": "code",
   "execution_count": 38,
   "metadata": {},
   "outputs": [
    {
     "data": {
      "text/plain": [
       "(15, 120)"
      ]
     },
     "execution_count": 38,
     "metadata": {},
     "output_type": "execute_result"
    }
   ],
   "source": [
    "def consum(n):\n",
    "    a=0; b=1\n",
    "    for i in range(1,n+1):\n",
    "       a+=i\n",
    "       b*=i\n",
    "    #    print(b)\n",
    "    return (a, b)\n",
    "\n",
    "consum(5) "
   ]
  },
  {
   "cell_type": "code",
   "execution_count": 39,
   "metadata": {},
   "outputs": [
    {
     "name": "stdout",
     "output_type": "stream",
     "text": [
      "Hello, Nicole.\n",
      "Hello, Tom.\n"
     ]
    }
   ],
   "source": [
    "def hello(*names):\n",
    "    for n in names:\n",
    "        print('Hello, %s.'%n)\n",
    "hello('Nicole', 'Tom')"
   ]
  },
  {
   "cell_type": "code",
   "execution_count": 42,
   "metadata": {},
   "outputs": [
    {
     "name": "stdout",
     "output_type": "stream",
     "text": [
      "Hello Nicole , you are 20 years old.\n",
      "Hello Tom , you are 30 years old.\n"
     ]
    }
   ],
   "source": [
    "def hello(**names):\n",
    "    for n in names:\n",
    "        print('Hello',n,', you are',names[n],'years old.')\n",
    "hello(Nicole=20, Tom=30)"
   ]
  },
  {
   "cell_type": "code",
   "execution_count": null,
   "metadata": {},
   "outputs": [],
   "source": []
  }
 ],
 "metadata": {
  "interpreter": {
   "hash": "c7d49d3b3b7afdfe299594850a26ff2527bbd2b2b9747d965b474ce7f0d07852"
  },
  "kernelspec": {
   "display_name": "Python 3.8.5 64-bit ('venv': venv)",
   "language": "python",
   "name": "python3"
  },
  "language_info": {
   "codemirror_mode": {
    "name": "ipython",
    "version": 3
   },
   "file_extension": ".py",
   "mimetype": "text/x-python",
   "name": "python",
   "nbconvert_exporter": "python",
   "pygments_lexer": "ipython3",
   "version": "3.8.5"
  },
  "orig_nbformat": 4
 },
 "nbformat": 4,
 "nbformat_minor": 2
}
