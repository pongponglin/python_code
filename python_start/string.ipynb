{
 "cells": [
  {
   "cell_type": "code",
   "execution_count": 5,
   "metadata": {},
   "outputs": [
    {
     "name": "stdout",
     "output_type": "stream",
     "text": [
      "slice\n",
      "pyt\n",
      "yhnlc\n",
      "eisotp\n"
     ]
    }
   ],
   "source": [
    "this = 'pythonslice'\n",
    "print(this[6:])\n",
    "print(this[:3])\n",
    "print(this[1::2])\n",
    "print(this[::-2])"
   ]
  },
  {
   "cell_type": "markdown",
   "metadata": {},
   "source": [
    "### string moduel - str\n",
    "- str.strip()：將前後的空格消除\n",
    "- str.swapcase()：大小寫轉換, str.upper(), str.lower()\n",
    "- str.capitalize()：第一個字大寫\n",
    "- str.endswith(), str.startswith()\n",
    "- str.split(sep='',maxsplit=-1)：分割字串為list\n",
    "- str.count(sub)：計算sub出現次數\n",
    "- str.find(sub)：第一次sub出現的索引職，不在其中則回傳-1\n",
    "- str.index(sub)：第一次sub出現的索引職，不在其中則回傳ValueError\n",
    "- str.replace(old,new[,count])：如果給count，就代表第幾個才會被替換"
   ]
  },
  {
   "cell_type": "code",
   "execution_count": 14,
   "metadata": {},
   "outputs": [
    {
     "name": "stdout",
     "output_type": "stream",
     "text": [
      "akk G\n",
      " AKK g \n",
      "How?\n"
     ]
    }
   ],
   "source": [
    "import string\n",
    "try1 = ' akk G '\n",
    "print(str.strip(try1))\n",
    "print(str.swapcase(try1))\n",
    "print('how?'.capitalize())"
   ]
  },
  {
   "cell_type": "code",
   "execution_count": 19,
   "metadata": {},
   "outputs": [
    {
     "name": "stdout",
     "output_type": "stream",
     "text": [
      "['apple', 'is', 'a', 'fruit']\n",
      "2\n",
      "1\n",
      "NOpple is NO fruit\n"
     ]
    }
   ],
   "source": [
    "string = 'apple is a fruit'\n",
    "print(string.split(' '))\n",
    "print(string.count('a'))\n",
    "print(string.find('p'))\n",
    "print(string.replace('a','NO'))"
   ]
  },
  {
   "cell_type": "code",
   "execution_count": 20,
   "metadata": {},
   "outputs": [
    {
     "data": {
      "text/plain": [
       "'a;b;c'"
      ]
     },
     "execution_count": 20,
     "metadata": {},
     "output_type": "execute_result"
    }
   ],
   "source": [
    "';'.join(['a','b','c'])"
   ]
  },
  {
   "cell_type": "code",
   "execution_count": 22,
   "metadata": {},
   "outputs": [
    {
     "data": {
      "text/plain": [
       "'This Is A Test'"
      ]
     },
     "execution_count": 22,
     "metadata": {},
     "output_type": "execute_result"
    }
   ],
   "source": [
    "' '.join([s.capitalize() for s in 'this is a test'.split()])"
   ]
  },
  {
   "cell_type": "code",
   "execution_count": null,
   "metadata": {},
   "outputs": [],
   "source": []
  }
 ],
 "metadata": {
  "interpreter": {
   "hash": "c7d49d3b3b7afdfe299594850a26ff2527bbd2b2b9747d965b474ce7f0d07852"
  },
  "kernelspec": {
   "display_name": "Python 3.8.5 64-bit ('venv': venv)",
   "language": "python",
   "name": "python3"
  },
  "language_info": {
   "codemirror_mode": {
    "name": "ipython",
    "version": 3
   },
   "file_extension": ".py",
   "mimetype": "text/x-python",
   "name": "python",
   "nbconvert_exporter": "python",
   "pygments_lexer": "ipython3",
   "version": "3.8.5"
  },
  "orig_nbformat": 4
 },
 "nbformat": 4,
 "nbformat_minor": 2
}
