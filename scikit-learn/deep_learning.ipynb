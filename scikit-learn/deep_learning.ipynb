{
 "cells": [
  {
   "cell_type": "code",
   "execution_count": null,
   "metadata": {},
   "outputs": [],
   "source": [
    "import numpy as np"
   ]
  },
  {
   "cell_type": "markdown",
   "metadata": {},
   "source": [
    "## Neural Network\n",
    "https://scikit-learn.org/stable/modules/generated/sklearn.neural_network.MLPClassifier.html#sklearn.neural_network.MLPClassifier"
   ]
  },
  {
   "cell_type": "code",
   "execution_count": null,
   "metadata": {},
   "outputs": [],
   "source": [
    "from sklearn.model_selection import train_test_split\n",
    "from sklearn.preprocessing import StandardScaler\n",
    "from sklearn.preprocessing import Normalizer\n",
    "from sklearn.preprocessing import MinMaxScaler\n",
    "from sklearn.neural_network import MLPClassifier\n",
    "\n",
    "Xs = StandardScaler().fit_transform(X)\n",
    "Xn = Normalizer().fit_transform(X)\n",
    "Xm = MinMaxScaler().fit_transform(X)\n",
    "Xs_train,Xs_test,ys_train,ys_test = train_test_split(Xs,y,test_size=0.1)\n",
    "Xn_train,Xn_test,yn_train,yn_test = train_test_split(Xn,y,test_size=0.1)\n",
    "Xm_train,Xm_test,ym_train,ym_test = train_test_split(Xm,y,test_size=0.1)\n",
    "\n",
    "mlp = MLPClassifier(hidden_layer_sizes=(10,10,10),max_iter=2000) \n",
    "#3層隱藏層,每個隱藏層有10個神經元,max_iter=500表示訓練500次以期望得到最佳weight與bias\n",
    "mlp.fit(Xs_train,ys_train)\n",
    "predictions = mlp.predict(Xs_test)\n",
    "\n",
    "mlp.score(Xs_train,ys_train)\n",
    "mlp.score(Xs_test,ys_test)"
   ]
  }
 ],
 "metadata": {
  "kernelspec": {
   "display_name": "venv",
   "language": "python",
   "name": "python3"
  },
  "language_info": {
   "codemirror_mode": {
    "name": "ipython",
    "version": 3
   },
   "file_extension": ".py",
   "mimetype": "text/x-python",
   "name": "python",
   "nbconvert_exporter": "python",
   "pygments_lexer": "ipython3",
   "version": "3.9.6"
  },
  "orig_nbformat": 4
 },
 "nbformat": 4,
 "nbformat_minor": 2
}
