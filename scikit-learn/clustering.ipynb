{
 "cells": [
  {
   "cell_type": "code",
   "execution_count": null,
   "metadata": {},
   "outputs": [],
   "source": [
    "import numpy as np\n",
    "import matplotlib.pyplot as plt\n",
    "import pandas as pd"
   ]
  },
  {
   "cell_type": "markdown",
   "metadata": {},
   "source": [
    "## K-means\n",
    "- https://scikit-learn.org/stable/modules/generated/sklearn.cluster.KMeans.html#sklearn.cluster.KMeans\n",
    "- 資料量太大可以考慮用 minbatch https://xxscikit-learn.org/stable/modules/generated/sklearn.cluster.MiniBatchKMeans.html#sklearn.cluster.MiniBatchKMeans"
   ]
  },
  {
   "cell_type": "code",
   "execution_count": null,
   "metadata": {},
   "outputs": [],
   "source": [
    "from sklearn.cluster import KMeans\n",
    "from scipy.spatial.distance import cdist\n",
    "K=range(1,10)\n",
    "meandistortions=[]\n",
    "for k in K:\n",
    "    kmeans=KMeans(n_clusters=k)\n",
    "    kmeans.fit(X)\n",
    "    meandistortions.append(sum(np.min(cdist(X,kmeans.cluster_centers_,'euclidean'),axis=1))/X.shape[0]) \n",
    "    \n",
    "series_meandistortions = pd.Series(meandistortions,index=range(1,10))\n",
    "series_meandistortions    "
   ]
  },
  {
   "cell_type": "markdown",
   "metadata": {},
   "source": [
    "怎麼找到最佳K\n",
    "- 手肘轉折\n",
    "- 輪廓係數"
   ]
  },
  {
   "cell_type": "code",
   "execution_count": null,
   "metadata": {},
   "outputs": [],
   "source": [
    "print('最大扭曲程度所對應的K值為',pd.Series(series_meandistortions.diff(-1)).idxmax()+1) # -1:由上往下減\n",
    "plt.plot(K,meandistortions,'bx-')\n",
    "plt.xlabel('k')\n",
    "plt.ylabel('Average distortion')\n",
    "plt.title('Selecting k with the Elbow Method')\n",
    "plt.show()"
   ]
  },
  {
   "cell_type": "code",
   "execution_count": null,
   "metadata": {},
   "outputs": [],
   "source": [
    "from sklearn import metrics\n",
    "plt.figure(figsize=(8, 10)) \n",
    "plt.subplot(3, 2, 1)\n",
    "plt.xlim([0, 5])\n",
    "plt.ylim([0, 5])\n",
    "plt.title('Instances')\n",
    "plt.scatter(X[:,0], X[:,1])\n",
    "colors = ['b', 'g', 'r', 'c', 'm', 'y', 'k', 'b']\n",
    "markers = ['o', 's', 'D', 'v', '^', 'p', '*', '+']\n",
    "tests = [2, 3, 4, 5, 6, 7, 8]\n",
    "subplot_counter = 1\n",
    "for t in tests:\n",
    "    subplot_counter += 1\n",
    "    plt.subplot(4, 2, subplot_counter)\n",
    "    kmeans_model = KMeans(n_clusters=t).fit(X)\n",
    "    for i, l in enumerate(kmeans_model.labels_):\n",
    "        plt.plot(x1[i], x2[i], color=colors[l], marker=markers[l],ls='None')\n",
    "        plt.xlim([0, 5])\n",
    "        plt.ylim([0, 5])\n",
    "        plt.title('K = %s, silhouette coefficient = %.03f' % (t, metrics.silhouette_score(X, kmeans_model.labels_,metric='euclidean')))\n",
    "        \n",
    "\n",
    "plt.show()"
   ]
  },
  {
   "cell_type": "code",
   "execution_count": null,
   "metadata": {},
   "outputs": [],
   "source": [
    "# 分成5類 直接fit +predict\n",
    "KMeans5 = KMeans(n_clusters=5).fit_predict(df_pivot1)\n",
    "KMeans5"
   ]
  },
  {
   "cell_type": "markdown",
   "metadata": {},
   "source": [
    "### DBSCAN\n",
    "https://scikit-learn.org/stable/modules/generated/sklearn.cluster.DBSCAN.html#sklearn.cluster.DBSCAN"
   ]
  },
  {
   "cell_type": "code",
   "execution_count": null,
   "metadata": {},
   "outputs": [],
   "source": [
    "from sklearn.cluster import DBSCAN\n",
    "dbscan = DBSCAN() # 預設：min_samples=5 最小樣本數, eps=0.5 半徑距離\n",
    "dbscan_cluster = dbscan.fit_predict(X)\n",
    "\n",
    "dbscan_cluster = dbscan.fit(X)\n",
    "dbscan_cluster.labels_"
   ]
  },
  {
   "cell_type": "markdown",
   "metadata": {},
   "source": [
    "### Agglomerative Clustering\n",
    "https://scikit-learn.org/stable/modules/generated/sklearn.cluster.AgglomerativeClustering.html#sklearn.cluster.AgglomerativeClustering"
   ]
  },
  {
   "cell_type": "code",
   "execution_count": null,
   "metadata": {},
   "outputs": [],
   "source": [
    "from sklearn.cluster import AgglomerativeClustering\n",
    "Agg = AgglomerativeClustering(n_clusters=3)\n",
    "Agg_cluster = Agg.fit_predict(X)\n",
    "Agg_cluster\n",
    "\n",
    "#ward:將兩個簇合併時，考慮讓所有簇的variance增加最少\n",
    "#average:將簇裡所有樣本之間的平均距離最小的兩個簇合併\n",
    "#complete:將簇裡所有樣本之間的平均距離最大的兩個簇合併\n",
    "Agg_ward = AgglomerativeClustering(n_clusters=4,linkage='ward')\n",
    "Agg_average = AgglomerativeClustering(n_clusters=4,linkage='average')\n",
    "Agg_complete = AgglomerativeClustering(n_clusters=4,linkage='complete')\n",
    "Agg_ward_cluster = Agg_ward.fit_predict(X)\n",
    "Agg_average_cluster = Agg_average.fit_predict(X)\n",
    "Agg_complete_cluster = Agg_complete.fit_predict(X)"
   ]
  },
  {
   "cell_type": "code",
   "execution_count": null,
   "metadata": {},
   "outputs": [],
   "source": [
    "from scipy.cluster.hierarchy import dendrogram,ward\n",
    "linkage_array=ward(X)\n",
    "dendrogram(linkage_array)\n",
    "ax=plt.gca()\n",
    "bounds=ax.get_xbound()\n",
    "#ax.plot(bounds,[7.25,7.25],'--',c='k')\n",
    "ax.plot(bounds,[4,4],'--',c='k')\n",
    "\n",
    "plt.xlabel('sample index')\n",
    "plt.ylabel('Cluster Distance')\n",
    "plt.show()\n"
   ]
  }
 ],
 "metadata": {
  "language_info": {
   "name": "python"
  },
  "orig_nbformat": 4
 },
 "nbformat": 4,
 "nbformat_minor": 2
}
