{
 "cells": [
  {
   "cell_type": "code",
   "execution_count": null,
   "metadata": {},
   "outputs": [],
   "source": [
    "import numpy as np"
   ]
  },
  {
   "cell_type": "markdown",
   "metadata": {},
   "source": [
    "## Naive Bayes\n",
    "https://scikit-learn.org/stable/modules/naive_bayes.html\n",
    "\n",
    "GaussianNB(高斯),資料為常態分佈<br>\n",
    "MultinomialNB(多類別),用在離散值(1,4,6,7,9)<br>\n",
    "ComplementNB,增補MultinomialNB在不平衡資料集的問題<br>\n",
    "BernoulliNB(伯努利),資料為2元值(0,1)<br>\n",
    "CategoricalNB,資料為離散型<br>"
   ]
  },
  {
   "cell_type": "code",
   "execution_count": null,
   "metadata": {},
   "outputs": [],
   "source": [
    "from sklearn.naive_bayes import GaussianNB  \n",
    "clfG = GaussianNB()                 #clf為classifier的縮寫\n",
    "clfG.fit(X,y)                       #fit將演算法訓練為模型\n",
    "print(\"準確度\",clfG.score(X,y))      #分類的預設測量值為Accurancy"
   ]
  },
  {
   "cell_type": "code",
   "execution_count": null,
   "metadata": {},
   "outputs": [],
   "source": [
    "from sklearn.naive_bayes import BernoulliNB\n",
    "clfB = BernoulliNB()\n",
    "clfB.fit(X,y)\n",
    "print(\"準確度\",clfB.score(X,y))\n",
    "clfB.predict(t1)"
   ]
  },
  {
   "cell_type": "code",
   "execution_count": null,
   "metadata": {},
   "outputs": [],
   "source": [
    "from sklearn.naive_bayes import MultinomialNB\n",
    "clfM = MultinomialNB(alpha=1.0,class_prior=None,fit_prior=True)\n",
    "clfM.fit(X,y)\n",
    "print(\"準確度\",clfM.score(X,y))\n",
    "clfM.predict(t1)"
   ]
  },
  {
   "cell_type": "code",
   "execution_count": null,
   "metadata": {},
   "outputs": [],
   "source": [
    "#scikit-learn 0.20新增,用來解決不平衡資料集在MultinomialNB所遭遇的問題\n",
    "from sklearn.naive_bayes import ComplementNB\n",
    "clfC = ComplementNB(alpha=1.0,class_prior=None,fit_prior=True)\n",
    "clfC.fit(X,y)\n",
    "print(\"準確度\",clfC.score(X,y))\n",
    "clfC.predict(t1)"
   ]
  },
  {
   "cell_type": "markdown",
   "metadata": {},
   "source": [
    "## Decision tree\n",
    "- 需要把資料數值化，才儜使用"
   ]
  },
  {
   "cell_type": "code",
   "execution_count": null,
   "metadata": {},
   "outputs": [],
   "source": [
    "from sklearn.preprocessing import LabelEncoder\n",
    "le = LabelEncoder()\n",
    "Outlook_encoder = le.fit(dataframe[\"Outlook\"])\n",
    "Outlook_encoder.classes_\n",
    "Outlook_integer_encoder = Outlook_encoder.transform(Outlook_encoder.classes_)\n",
    "Outlook_final_encoder = Outlook_encoder.transform(dataframe[\"Outlook\"])\n",
    "dataframe[\"Outlook\"]=Outlook_final_encoder"
   ]
  },
  {
   "cell_type": "code",
   "execution_count": null,
   "metadata": {},
   "outputs": [],
   "source": [
    "# df.values將dataframe轉換為numpy ndarray\n",
    "df[[\"Outlook\",\"Temp\",\"Humidity\",\"Windy\"]].values\n",
    "\n",
    "columns = [\"Outlook\",\"Temp\",\"Humidity\",\"Windy\"]\n",
    "features = df[list(columns)].values\n",
    "X = features.astype(np.int8)\n",
    "y = targets = labels = df[\"Play\"].values"
   ]
  },
  {
   "cell_type": "code",
   "execution_count": null,
   "metadata": {},
   "outputs": [],
   "source": [
    "from sklearn import tree\n",
    "clf = tree.DecisionTreeClassifier(criterion=\"entropy\"\n",
    "                                  , max_depth=5)  #注意max_depth,可能造成提早剪枝，預設為8\n",
    "clf = clf.fit(X,y)\n",
    "clf.score(X,y)\n",
    "clf.predict([[1,1,1,1]])\n",
    "clf.predict_proba([[1,1,1,1]])\n",
    "\n",
    "clf2 = tree.DecisionTreeClassifier(criterion=\"gini\")\n",
    "X = features\n",
    "clf2.fit(X,y)\n",
    "\n",
    "from sklearn.tree import DecisionTreeClassifier\n",
    "from sklearn.tree import ExtraTreeClassifier\n",
    "from sklearn.ensemble import RandomForestClassifier\n",
    "dt = DecisionTreeClassifier()\n",
    "dt.fit(X_train, y_train)\n",
    "print(\"決策樹準確度: \" ,dt.score(X_test,y_test))\n",
    "\n",
    "et = ExtraTreeClassifier()\n",
    "et.fit(X_train, y_train)\n",
    "print(\"極端隨機樹準確度: \", et.score(X_test,y_test))\n",
    "\n",
    "rfc = RandomForestClassifier(n_estimators = 250)\n",
    "rfc.fit(X_train, y_train)\n",
    "print(\"隨機森林(250)準確度: \",rfc.score(X_test, y_test))"
   ]
  },
  {
   "cell_type": "code",
   "execution_count": null,
   "metadata": {},
   "outputs": [],
   "source": [
    "#所有資料先進行Standardization後,才進行分割為training/testing data\n",
    "sc = StandardScaler()\n",
    "X_sc = sc.fit_transform(X)\n",
    "X_train_sc, X_test_sc, y_train, y_test = train_test_split(X_sc, y,test_size=0.2)\n",
    "dt_sc = DecisionTreeClassifier()\n",
    "dt_sc.fit(X_train_sc,y_train)\n",
    "print(\"決策樹+標準化準確度: \",dt_sc.score(X_test_sc, y_test))\n",
    "\n",
    "rfc_sc = RandomForestClassifier(n_estimators = 250)\n",
    "rfc_sc.fit(X_train_sc, y_train)\n",
    "y_predict = rfc_sc.predict(X_test_sc)\n",
    "print(\"隨機森林+標準化(250)準確度: \",rfc_sc.score(X_test_sc, y_test))"
   ]
  },
  {
   "cell_type": "markdown",
   "metadata": {},
   "source": [
    "## SVM\n",
    "svc: https://scikit-learn.org/stable/modules/generated/sklearn.svm.SVC.html#sklearn.svm.SVC\n",
    "- 兩個重要參數：C & gamme"
   ]
  },
  {
   "cell_type": "code",
   "execution_count": null,
   "metadata": {},
   "outputs": [],
   "source": [
    "from sklearn import svm\n",
    "clf=svm.SVC(kernel='linear')  #'rbf'(高斯),'poly'(多項式),'sigmoid'\n",
    "clf.fit(X,Y)\n",
    "clf.coef_\n",
    "w=clf.coef_[0]  \n",
    "a=-w[0]/w[1]\n",
    "xx=np.linspace(-5,5)  \n",
    "yy=a*xx-(clf.intercept_[0])/w[1]  \n",
    "plt.plot(xx,yy,'k-')\n",
    "plt.scatter(X[:,0],X[:,1],c=Y,s=80,cmap=plt.cm.Paired)\n",
    "plt.show()"
   ]
  },
  {
   "cell_type": "markdown",
   "metadata": {},
   "source": [
    "## K-NN\n",
    "https://scikit-learn.org/stable/modules/classes.html#module-sklearn.neighbors\n",
    "https://scikit-learn.org/stable/modules/generated/sklearn.neighbors.KNeighborsClassifier.html#sklearn.neighbors.KNeighborsClassifier"
   ]
  },
  {
   "cell_type": "code",
   "execution_count": null,
   "metadata": {},
   "outputs": [],
   "source": [
    "#距離相關演算法應該先進行無量綱化\n",
    "from sklearn.preprocessing import StandardScaler\n",
    "from sklearn.preprocessing import Normalizer\n",
    "from sklearn.preprocessing import MinMaxScaler\n",
    "import numpy as np"
   ]
  },
  {
   "cell_type": "code",
   "execution_count": null,
   "metadata": {},
   "outputs": [],
   "source": [
    "from sklearn.neighbors import KNeighborsClassifier\n",
    "clf_k3 = KNeighborsClassifier(n_neighbors=3)"
   ]
  },
  {
   "cell_type": "code",
   "execution_count": null,
   "metadata": {},
   "outputs": [],
   "source": [
    "from sklearn.neighbors import KDTree\n",
    "kdtree = KDTree(points)"
   ]
  },
  {
   "cell_type": "markdown",
   "metadata": {},
   "source": [
    "# JOBLIB \n",
    "- 把model儲存下來下之後就可以直接使用\n",
    "- model persistence: https://scikit-learn.org/stable/model_persistence.html"
   ]
  },
  {
   "cell_type": "code",
   "execution_count": null,
   "metadata": {},
   "outputs": [],
   "source": [
    "import joblib\n",
    "joblib.dump(clf,r\"clf_svm.m\")\n",
    "\n",
    "clf=joblib.load(r\"clf_svm.m\")\n",
    "clf.predict([[0,0]])"
   ]
  },
  {
   "cell_type": "markdown",
   "metadata": {},
   "source": [
    "## Accuracy"
   ]
  },
  {
   "cell_type": "code",
   "execution_count": null,
   "metadata": {},
   "outputs": [],
   "source": [
    "gnb = GaussianNB()\n",
    "mode = gnb.fit(train_features,train_labels)\n",
    "preds = gnb.predict(test_features)\n",
    "print(\"預測結果\",preds)\n",
    "print(\"真實結果\",test_labels)\n",
    "\n",
    "from sklearn.metrics import accuracy_score\n",
    "print('準確度:{}'.format(accuracy_score(test_labels,preds)))  # (tn+tp)/total\n",
    "\n",
    "from sklearn.metrics import average_precision_score\n",
    "print('精準度:{}'.format(average_precision_score(test_labels,preds))) # tp/(tp+fp)\n",
    "\n",
    "from sklearn.metrics import recall_score\n",
    "print('喚回:{}'.format(recall_score(test_labels,preds))) # tp/(tp+fn)\n",
    "\n",
    "from sklearn.metrics import roc_curve\n",
    "from sklearn.metrics import auc\n",
    "fpr, tpr, thresholds = roc_curve(test_labels,preds)\n",
    "print(tpr,fpr)\n",
    "print('AUC:{}'.format(auc(fpr, tpr)))"
   ]
  }
 ],
 "metadata": {
  "kernelspec": {
   "display_name": "venv",
   "language": "python",
   "name": "python3"
  },
  "language_info": {
   "codemirror_mode": {
    "name": "ipython",
    "version": 3
   },
   "file_extension": ".py",
   "mimetype": "text/x-python",
   "name": "python",
   "nbconvert_exporter": "python",
   "pygments_lexer": "ipython3",
   "version": "3.9.6"
  },
  "orig_nbformat": 4
 },
 "nbformat": 4,
 "nbformat_minor": 2
}
