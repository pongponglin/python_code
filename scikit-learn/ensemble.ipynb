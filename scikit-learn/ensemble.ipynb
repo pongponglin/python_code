{
 "cells": [
  {
   "cell_type": "code",
   "execution_count": null,
   "metadata": {},
   "outputs": [],
   "source": [
    "import pandas as pd\n",
    "from sklearn import svm, metrics\n",
    "from sklearn.model_selection import train_test_split"
   ]
  },
  {
   "cell_type": "markdown",
   "metadata": {},
   "source": [
    "## Bagging\n",
    "- 單一分類器：https://scikit-learn.org/stable/modules/classes.html#module-sklearn.ensemble\n",
    "- 多種分類器：https://scikit-learn.org/stable/modules/generated/sklearn.ensemble.VotingClassifier.html#sklearn.ensemble.VotingClassifier"
   ]
  },
  {
   "cell_type": "code",
   "execution_count": null,
   "metadata": {},
   "outputs": [],
   "source": [
    "from sklearn.ensemble import BaggingClassifier\n",
    "from sklearn.neighbors import KNeighborsClassifier\n",
    "#使用knn當作弱學習器\n",
    "bcknn = BaggingClassifier(base_estimator=KNeighborsClassifier(n_neighbors=3),\n",
    "                          n_estimators=50,bootstrap=True,bootstrap_features=True,\n",
    "                          max_samples=0.80,max_features=0.80)\n",
    "bcknn.fit(train_data, train_label)\n",
    "pred = bcknn.predict(test_data)\n",
    "ac_score = metrics.accuracy_score(test_label, pred)\n",
    "print(\"訓練準確度\",bcknn.score(train_data,train_label),\n",
    "      \"測試準確度\",bcknn.score(test_data,test_label))"
   ]
  },
  {
   "cell_type": "markdown",
   "metadata": {},
   "source": [
    "## Random Forest\n",
    "- https://scikit-learn.org/stable/modules/generated/sklearn.ensemble.RandomForestClassifier.html#sklearn.ensemble.RandomForestClassifier\n",
    "- 極端隨機數：https://scikit-learn.org/stable/modules/generated/sklearn.ensemble.ExtraTreesClassifier.html#sklearn.ensemble.ExtraTreesClassifier"
   ]
  },
  {
   "cell_type": "code",
   "execution_count": null,
   "metadata": {},
   "outputs": [],
   "source": [
    "from sklearn.ensemble import RandomForestClassifier\n",
    "rfc = RandomForestClassifier(n_estimators=50,criterion='entropy')\n",
    "rfc.fit(train_data, train_label)\n",
    "pred = rfc.predict(test_data)\n",
    "ac_score = metrics.accuracy_score(test_label, pred)\n",
    "print(\"Training Random Forest Accurancy : \", rfc.score(train_data,train_label))\n",
    "print(\"Test Random Forest Accurancy : \", ac_score)"
   ]
  },
  {
   "cell_type": "code",
   "execution_count": null,
   "metadata": {},
   "outputs": [],
   "source": [
    "from sklearn.ensemble import ExtraTreesClassifier\n",
    "etc = ExtraTreesClassifier(n_estimators=50,criterion='entropy')\n",
    "etc.fit(train_data, train_label)\n",
    "pred = etc.predict(test_data)\n",
    "ac_score = metrics.accuracy_score(test_label, pred)\n",
    "print(\"Extra Trees Accurancy : \", ac_score)"
   ]
  },
  {
   "cell_type": "markdown",
   "metadata": {},
   "source": [
    "## Bootsing\n",
    "- Adaboost: https://scikit-learn.org/stable/modules/generated/sklearn.ensemble.AdaBoostClassifier.html#sklearn.ensemble.AdaBoostClassifier\n",
    "- Gradient Boost: https://scikit-learn.org/stable/modules/generated/sklearn.ensemble.GradientBoostingClassifier.html#sklearn.ensemble.GradientBoostingClassifier"
   ]
  },
  {
   "cell_type": "markdown",
   "metadata": {},
   "source": [
    "### Ada Boosting"
   ]
  },
  {
   "cell_type": "code",
   "execution_count": null,
   "metadata": {},
   "outputs": [],
   "source": [
    "#類似RF,但不是使用整個完整樹,而是使用樹樁(stump:一個節點帶兩個葉片)\n",
    "from sklearn.ensemble import AdaBoostClassifier\n",
    "abc = AdaBoostClassifier(n_estimators=200)\n",
    "abc.fit(train_data,train_label)\n",
    "pred = abc.predict(test_data)\n",
    "ac_score = metrics.accuracy_score(test_label, pred)\n",
    "print(\"Training AdaBoosting Accurancy : \", abc.score(train_data,train_label))\n",
    "print(\"Test AdaBoosting Accurancy : \", ac_score)"
   ]
  },
  {
   "cell_type": "markdown",
   "metadata": {},
   "source": [
    "### GDBT"
   ]
  },
  {
   "cell_type": "code",
   "execution_count": null,
   "metadata": {},
   "outputs": [],
   "source": [
    "from sklearn.ensemble import GradientBoostingClassifier\n",
    "gbc = GradientBoostingClassifier(n_estimators=200)\n",
    "gbc.fit(train_data,train_label)\n",
    "pred = gbc.predict(test_data)\n",
    "ac_score = metrics.accuracy_score(test_label, pred)\n",
    "print(\"Training Gradient Boosting Accurancy : \", gbc.score(train_data,train_label))\n",
    "print(\"Test Gradient Boosting Accurancy : \", ac_score)"
   ]
  },
  {
   "cell_type": "markdown",
   "metadata": {},
   "source": [
    "### XGBoost"
   ]
  },
  {
   "cell_type": "code",
   "execution_count": null,
   "metadata": {},
   "outputs": [],
   "source": [
    "from xgboost import XGBClassifier\n",
    "from sklearn.preprocessing import LabelEncoder\n",
    "from sklearn.preprocessing import StandardScaler\n",
    "from sklearn.preprocessing import Normalizer\n",
    "from sklearn.preprocessing import MinMaxScaler\n",
    "\n",
    "#xgboost 1.6.1需要先將y進行LabelEncoder\n",
    "le = LabelEncoder()\n",
    "y_le = le.fit_transform(y)\n",
    "Xs = StandardScaler().fit_transform(X)\n",
    "Xn = Normalizer().fit_transform(X)\n",
    "Xm = MinMaxScaler().fit_transform(X)\n",
    "Xs_train,Xs_test,y_train,y_test = train_test_split(Xs,y_le,test_size=0.1,random_state=123)\n",
    "Xn_train,Xn_test,y_train,y_test = train_test_split(Xn,y_le,test_size=0.1,random_state=123)\n",
    "Xm_train,Xm_test,y_train,y_test = train_test_split(Xn,y_le,test_size=0.1,random_state=123)\n",
    "train_data, test_data, train_label, test_label = train_test_split(X, y,test_size=0.1,random_state=123)\n",
    "\n",
    "xgbc = XGBClassifier()\n",
    "xgbc.fit(Xs_train,y_train)\n",
    "print(\"訓練準確度\",xgbc.score(Xs_train,y_train),\"測試準確度\",xgbc.score(Xs_test,y_test))"
   ]
  },
  {
   "cell_type": "markdown",
   "metadata": {},
   "source": [
    "## Voting"
   ]
  },
  {
   "cell_type": "code",
   "execution_count": null,
   "metadata": {},
   "outputs": [],
   "source": [
    "from sklearn.ensemble import VotingClassifier\n",
    "from sklearn.linear_model import LogisticRegression\n",
    "from sklearn.tree import DecisionTreeClassifier\n",
    "from sklearn.svm import SVC\n",
    "from sklearn.pipeline import make_pipeline\n",
    "from sklearn.preprocessing import StandardScaler\n",
    "\n",
    "est = []\n",
    "m1 = LogisticRegression(max_iter=3000)\n",
    "est.append(('Logistic',m1))\n",
    "m2 = DecisionTreeClassifier()\n",
    "est.append(('DT',m2))\n",
    "m3 = SVC()\n",
    "est.append(('SVC',m3))\n",
    "ests = [('Logistic', make_pipeline(StandardScaler(),(m1))),\n",
    "        ('DT', m2),\n",
    "        ('SVC',make_pipeline(StandardScaler(),(m3)))]\n",
    "\n",
    "s1=make_pipeline(StandardScaler(),(m1)).fit(train_data,train_label).score(test_data,test_label)\n",
    "s2=make_pipeline(StandardScaler(),(m2)).fit(train_data,train_label).score(test_data,test_label)\n",
    "s3=make_pipeline(StandardScaler(),(m3)).fit(train_data,train_label).score(test_data,test_label)\n",
    "print('----------單一演算法---------')\n",
    "print('Logisic準確率:{}'.format(s1))\n",
    "print('DT準確率:{}'.format(s2))\n",
    "print('SVC準確率:{}'.format(s3))\n",
    "\n",
    "#個別分類器的預測結果進行多數決\n",
    "vc = VotingClassifier(ests)\n",
    "vc.fit(train_data,train_label)\n",
    "pred = vc.predict(test_data)\n",
    "sc_score = metrics.accuracy_score(test_label,pred)\n",
    "print(\"Voting ensemble Accurancy : \",ac_score)"
   ]
  },
  {
   "cell_type": "code",
   "execution_count": null,
   "metadata": {},
   "outputs": [],
   "source": [
    "from sklearn.ensemble import BaggingClassifier\n",
    "from sklearn.ensemble import RandomForestClassifier\n",
    "from sklearn.ensemble import GradientBoostingClassifier\n",
    "\n",
    "m1 = BaggingClassifier(base_estimator=KNeighborsClassifier(n_neighbors=3),n_estimators=100,bootstrap=True,bootstrap_features=True,max_samples=0.80,max_features=0.80)\n",
    "est.append(('Bagging_Knn',m1))\n",
    "m2 = RandomForestClassifier(n_estimators=100,criterion='entropy')\n",
    "est.append(('RF',m2))\n",
    "m3 = GradientBoostingClassifier(n_estimators=100)\n",
    "est.append(('GBDT',m3))\n",
    "ests = [('Bagging_Knn', m1),('RandomForest', m2),('GBDT',m3)]"
   ]
  },
  {
   "cell_type": "markdown",
   "metadata": {},
   "source": [
    "## Stacking"
   ]
  },
  {
   "cell_type": "code",
   "execution_count": null,
   "metadata": {},
   "outputs": [],
   "source": [
    "from sklearn import model_selection\n",
    "from sklearn.ensemble import StackingClassifier #0.22\n",
    "from sklearn.naive_bayes import GaussianNB \n",
    "\n",
    "clf1 = svm.SVC()\n",
    "clf2 = RandomForestClassifier(n_estimators=100)\n",
    "clf3 = GaussianNB()\n",
    "ests = [('SVC',make_pipeline(StandardScaler(),(clf1))),\n",
    "        ('rf', clf2),\n",
    "        ('gNB', make_pipeline(StandardScaler(),(clf3)))]\n",
    "\n",
    "lr = LogisticRegression(max_iter=1000)\n",
    "\n",
    "sclf = StackingClassifier(estimators=ests, final_estimator=lr)\n",
    "sclf.fit(train_data,train_label).score(test_data,test_label)"
   ]
  },
  {
   "cell_type": "markdown",
   "metadata": {},
   "source": [
    "## Grid Search"
   ]
  },
  {
   "cell_type": "code",
   "execution_count": null,
   "metadata": {},
   "outputs": [],
   "source": [
    "#grid search範例\n",
    "from sklearn.model_selection import GridSearchCV\n",
    "from sklearn.datasets import make_classification\n",
    "from sklearn.ensemble import RandomForestClassifier\n",
    "\n",
    "X, y = make_classification(n_samples=1000,                           \n",
    "                           n_features=10,                           \n",
    "                           n_informative=3,                          \n",
    "                           n_redundant=0,                           \n",
    "                           n_repeated=0,                           \n",
    "                           n_classes=2,                           \n",
    "                           random_state=0,                           \n",
    "                           shuffle=False)\n",
    "rfc = RandomForestClassifier(n_jobs=-1,max_features= 'sqrt' ,n_estimators=50, oob_score = True) \n",
    "\n",
    "param_grid = {'n_estimators': [10, 100, 200, 300, 400],'max_features': ['auto', 'sqrt', 'log2'],'max_samples': [0.7,0.8,0.9]}\n",
    "\n",
    "CV_rfc = GridSearchCV(estimator=rfc, param_grid=param_grid, cv= 5)\n",
    "CV_rfc.fit(X, y)\n",
    "\n",
    "print(CV_rfc.best_params_)\n"
   ]
  }
 ],
 "metadata": {
  "kernelspec": {
   "display_name": "venv",
   "language": "python",
   "name": "python3"
  },
  "language_info": {
   "codemirror_mode": {
    "name": "ipython",
    "version": 3
   },
   "file_extension": ".py",
   "mimetype": "text/x-python",
   "name": "python",
   "nbconvert_exporter": "python",
   "pygments_lexer": "ipython3",
   "version": "3.9.6"
  },
  "orig_nbformat": 4
 },
 "nbformat": 4,
 "nbformat_minor": 2
}
