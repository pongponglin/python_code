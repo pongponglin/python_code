{
 "cells": [
  {
   "cell_type": "code",
   "execution_count": null,
   "metadata": {},
   "outputs": [],
   "source": [
    "import numpy as np"
   ]
  },
  {
   "cell_type": "markdown",
   "metadata": {},
   "source": [
    "## PCA\n",
    "https://scikit-learn.org/stable/modules/generated/sklearn.decomposition.PCA.html#sklearn.decomposition.PCA"
   ]
  },
  {
   "cell_type": "code",
   "execution_count": null,
   "metadata": {},
   "outputs": [],
   "source": [
    "\n",
    "from sklearn.decomposition import PCA\n",
    "pca = PCA(n_components=2)  #n_components=m,表示要將原本特徵數量變成m個新特徵\n",
    "pca.fit(data)              #pca.fit()進行訓練\n",
    "print(pca.explained_variance_ratio_)\n",
    "print(np.cumsum(pca.explained_variance_ratio_))\n",
    "print(pca.components_) #顯示原本特徵與新特徵的線性關係\n",
    "\n",
    "data_x = pca.transform(data)\n",
    "#將pca後結果逆轉回原始資料\n",
    "pca.inverse_transform(data_x)\n",
    "\n",
    "\n",
    "\n",
    "pca_w = PCA(n_components=2,whiten='True')  #whiten='True'表示要先進行Normalization\n",
    "pca_w.fit(data)"
   ]
  },
  {
   "cell_type": "markdown",
   "metadata": {},
   "source": [
    "## LDA\n",
    "https://scikit-learn.org/stable/modules/generated/sklearn.discriminant_analysis.LinearDiscriminantAnalysis.html#sklearn.discriminant_analysis.LinearDiscriminantAnalysis"
   ]
  },
  {
   "cell_type": "code",
   "execution_count": null,
   "metadata": {},
   "outputs": [],
   "source": [
    "from sklearn.discriminant_analysis import LinearDiscriminantAnalysis\n",
    "LDA = LinearDiscriminantAnalysis(n_components=2)\n",
    "#lda需要帶入target,所以是監督式降維.根據target盡量分開不同類別的資料\n",
    "lda_x=LDA.fit_transform(data_scores,y_target)\n",
    "lda_x"
   ]
  }
 ],
 "metadata": {
  "language_info": {
   "name": "python"
  },
  "orig_nbformat": 4
 },
 "nbformat": 4,
 "nbformat_minor": 2
}
