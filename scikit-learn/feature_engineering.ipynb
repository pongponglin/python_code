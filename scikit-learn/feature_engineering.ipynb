{
 "cells": [
  {
   "cell_type": "code",
   "execution_count": 1,
   "metadata": {},
   "outputs": [],
   "source": [
    "import matplotlib.pyplot as plt\n",
    "import numpy as np\n",
    "from sklearn.preprocessing import StandardScaler\n",
    "from sklearn.preprocessing import MinMaxScaler\n",
    "from sklearn.preprocessing import scale\n",
    "from sklearn.preprocessing import Normalizer\n",
    "from sklearn import preprocessing"
   ]
  },
  {
   "cell_type": "markdown",
   "metadata": {},
   "source": [
    "## Dimention quality"
   ]
  },
  {
   "cell_type": "code",
   "execution_count": null,
   "metadata": {},
   "outputs": [],
   "source": [
    "X = np.array([[2,3],[2,10],[3,5],[4,4],[4,9],[5,7],[6,1],[9,5],[10,8]])"
   ]
  },
  {
   "cell_type": "code",
   "execution_count": null,
   "metadata": {},
   "outputs": [],
   "source": [
    "#將數值縮放到 [0-1]之間\n",
    "minmax = MinMaxScaler()\n",
    "X_minmax = minmax.fit_transform(X)\n",
    "X_minmax"
   ]
  },
  {
   "cell_type": "code",
   "execution_count": null,
   "metadata": {},
   "outputs": [],
   "source": [
    "# Normalization\n",
    "X_sc = scale(X)"
   ]
  },
  {
   "cell_type": "code",
   "execution_count": null,
   "metadata": {},
   "outputs": [],
   "source": [
    "#所有資料的平均值為0，變異數為1\n",
    "stds = StandardScaler()\n",
    "X_stds = stds.fit_transform(X)\n",
    "X_stds"
   ]
  },
  {
   "cell_type": "markdown",
   "metadata": {},
   "source": [
    "## on-hot encoding"
   ]
  },
  {
   "cell_type": "code",
   "execution_count": null,
   "metadata": {},
   "outputs": [],
   "source": [
    "enc = preprocessing.OneHotEncoder()\n",
    "enc.fit([[0,0,3],[1,1,0]])\n",
    "\n",
    "# class type column into dummy variable\n",
    "# pd.get_dummies(boston_data_df,columns=[\"CHAS\"])\n"
   ]
  },
  {
   "cell_type": "markdown",
   "metadata": {},
   "source": [
    "## Abnormaly Detection"
   ]
  },
  {
   "cell_type": "code",
   "execution_count": null,
   "metadata": {},
   "outputs": [],
   "source": [
    "import pylab as pl  \n",
    "import scipy.spatial.distance as dist  "
   ]
  },
  {
   "cell_type": "markdown",
   "metadata": {},
   "source": [
    "### SVM: svm.OneClassSVM\n",
    "https://scikit-learn.org/stable/modules/generated/sklearn.svm.OneClassSVM.html#sklearn.svm.OneClassSVM"
   ]
  },
  {
   "cell_type": "code",
   "execution_count": null,
   "metadata": {},
   "outputs": [],
   "source": [
    "from sklearn import svm\n",
    "#半監督式學習,X_train是紅色部分,全都是正常資料\n",
    "clf = svm.OneClassSVM(nu=0.1, kernel=\"rbf\", gamma=0.1)   #nu是訓練誤差的上限,也用作support vector的下限\n",
    "# nu小，會擴張邊界\n",
    "clf.fit(X_train) #fit後,clf學習到正常資料的邊界"
   ]
  },
  {
   "cell_type": "markdown",
   "metadata": {},
   "source": [
    "### Outlier: covariance\n",
    "https://scikit-learn.org/stable/modules/classes.html#module-sklearn.covariance"
   ]
  },
  {
   "cell_type": "code",
   "execution_count": null,
   "metadata": {},
   "outputs": [],
   "source": [
    "#橢圓限界,如果資料集接近常態分佈\n",
    "from sklearn.covariance import EllipticEnvelope   \n",
    "clf = EllipticEnvelope()                \n",
    "clf.fit(X_train)                        #訓練資料裡有異常資料\n",
    "y_pred_train = clf.predict(X_train)     #使用學習後的模型預測訓練資料,那些是正常,那些是異常\n",
    "y_pred_test = clf.predict(X_test)\n",
    "\n",
    "#經驗共變異數\n",
    "from sklearn.covariance import EmpiricalCovariance  \n",
    "clf = EmpiricalCovariance()          #contamination=0.1,訓練資料中異常資料的比率(0~0.5)\n",
    "clf.fit(X_train) \n",
    "y_pred_train = clf.predict(X_train)     #使用學習後的模型預測訓練資料,那些是正常,那些是異常\n",
    "y_pred_test = clf.predict(X_test)\n"
   ]
  }
 ],
 "metadata": {
  "kernelspec": {
   "display_name": "venv",
   "language": "python",
   "name": "python3"
  },
  "language_info": {
   "codemirror_mode": {
    "name": "ipython",
    "version": 3
   },
   "file_extension": ".py",
   "mimetype": "text/x-python",
   "name": "python",
   "nbconvert_exporter": "python",
   "pygments_lexer": "ipython3",
   "version": "3.9.6"
  },
  "orig_nbformat": 4
 },
 "nbformat": 4,
 "nbformat_minor": 2
}
